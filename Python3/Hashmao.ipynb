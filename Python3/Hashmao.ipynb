{
 "cells": [
  {
   "cell_type": "code",
   "id": "initial_id",
   "metadata": {
    "collapsed": true,
    "ExecuteTime": {
     "end_time": "2025-05-21T02:55:05.116987Z",
     "start_time": "2025-05-21T02:55:05.094801Z"
    }
   },
   "source": [
    "# ハッシュマップ（辞書）の作成\n",
    "my_map = {}\n",
    "# または\n",
    "my_map = dict()\n",
    "\n",
    "# 要素の追加 (キー: 値)\n",
    "my_map[\"apple\"] = 100\n",
    "my_map[\"banana\"] = 200\n",
    "my_map[\"orange\"] = 150\n",
    "\n",
    "print(my_map)  # 出力例: {'apple': 100, 'banana': 200, 'orange': 150}\n",
    "\n",
    "# 値の取得\n",
    "print(my_map[\"banana\"])  # 出力: 200\n",
    "\n",
    "# キーの存在確認\n",
    "if \"apple\" in my_map:\n",
    "    print(\"appleは存在します\")\n",
    "\n",
    "# 要素の削除\n",
    "del my_map[\"orange\"]\n",
    "print(my_map)  # 出力例: {'apple': 100, 'banana': 200}\n",
    "\n",
    "# 要素の繰り返し処理\n",
    "for key, value in my_map.items():\n",
    "    print(f\"キー: {key}, 値: {value}\")"
   ],
   "outputs": [
    {
     "name": "stdout",
     "output_type": "stream",
     "text": [
      "{'apple': 100, 'banana': 200, 'orange': 150}\n",
      "200\n",
      "appleは存在します\n",
      "{'apple': 100, 'banana': 200}\n",
      "キー: apple, 値: 100\n",
      "キー: banana, 値: 200\n"
     ]
    }
   ],
   "execution_count": 1
  },
  {
   "metadata": {
    "ExecuteTime": {
     "end_time": "2025-05-21T02:59:21.743643Z",
     "start_time": "2025-05-21T02:59:21.737227Z"
    }
   },
   "cell_type": "code",
   "source": [
    "my_map = {}\n",
    "\n",
    "my_map[\"檸檬\"] = 100\n",
    "my_map[\"芭樂\"] = 30\n",
    "my_map[\"マンゴー\"] = 80\n",
    "\n",
    "print(my_map)"
   ],
   "id": "4852d19eb68be966",
   "outputs": [
    {
     "name": "stdout",
     "output_type": "stream",
     "text": [
      "{'檸檬': 100, '芭樂': 30, 'マンゴー': 80}\n"
     ]
    }
   ],
   "execution_count": 5
  },
  {
   "metadata": {
    "ExecuteTime": {
     "end_time": "2025-05-21T03:00:02.556869Z",
     "start_time": "2025-05-21T03:00:02.546895Z"
    }
   },
   "cell_type": "code",
   "source": [
    "my_map = {}\n",
    "\n",
    "my_map[\"檸檬\"] = 100\n",
    "my_map[\"芭樂\"] = 30\n",
    "my_map[\"マンゴー\"] = 80\n",
    "\n",
    "print(my_map[\"マンゴー\"])"
   ],
   "id": "2b9eb731ba4f404a",
   "outputs": [
    {
     "name": "stdout",
     "output_type": "stream",
     "text": [
      "80\n"
     ]
    }
   ],
   "execution_count": 6
  },
  {
   "metadata": {
    "ExecuteTime": {
     "end_time": "2025-05-21T03:01:17.346119Z",
     "start_time": "2025-05-21T03:01:17.335858Z"
    }
   },
   "cell_type": "code",
   "source": [
    "my_map = {}\n",
    "\n",
    "my_map[\"檸檬\"] = 100\n",
    "my_map[\"芭樂\"] = 30\n",
    "my_map[\"マンゴー\"] = 80\n",
    "\n",
    "if \"マンゴー\" in my_map:\n",
    "    print(\"マンゴーは存在します\")"
   ],
   "id": "cf23d569020915e0",
   "outputs": [
    {
     "name": "stdout",
     "output_type": "stream",
     "text": [
      "マンゴーは存在します\n"
     ]
    }
   ],
   "execution_count": 7
  },
  {
   "metadata": {
    "ExecuteTime": {
     "end_time": "2025-05-21T03:03:53.505187Z",
     "start_time": "2025-05-21T03:03:53.497142Z"
    }
   },
   "cell_type": "code",
   "source": [
    "my_map = {}\n",
    "\n",
    "my_map[\"檸檬\"] = 100\n",
    "my_map[\"芭樂\"] = 30\n",
    "my_map[\"マンゴー\"] = 80\n",
    "\n",
    "del my_map[\"マンゴー\"]\n",
    "print(my_map)"
   ],
   "id": "b79bd8fcbd839a3b",
   "outputs": [
    {
     "name": "stdout",
     "output_type": "stream",
     "text": [
      "{'檸檬': 100, '芭樂': 30}\n"
     ]
    }
   ],
   "execution_count": 8
  },
  {
   "metadata": {
    "ExecuteTime": {
     "end_time": "2025-05-21T03:04:48.212025Z",
     "start_time": "2025-05-21T03:04:48.205746Z"
    }
   },
   "cell_type": "code",
   "source": [
    "my_map = {}\n",
    "\n",
    "my_map[\"檸檬\"] = 100\n",
    "my_map[\"芭樂\"] = 30\n",
    "my_map[\"マンゴー\"] = 80\n",
    "\n",
    "for key, value in my_map.items():\n",
    "    print({key},{value})"
   ],
   "id": "25e9ee1e61fcfb61",
   "outputs": [
    {
     "name": "stdout",
     "output_type": "stream",
     "text": [
      "{'檸檬'} {100}\n",
      "{'芭樂'} {30}\n",
      "{'マンゴー'} {80}\n"
     ]
    }
   ],
   "execution_count": 10
  }
 ],
 "metadata": {
  "kernelspec": {
   "display_name": "Python 3",
   "language": "python",
   "name": "python3"
  },
  "language_info": {
   "codemirror_mode": {
    "name": "ipython",
    "version": 2
   },
   "file_extension": ".py",
   "mimetype": "text/x-python",
   "name": "python",
   "nbconvert_exporter": "python",
   "pygments_lexer": "ipython2",
   "version": "2.7.6"
  }
 },
 "nbformat": 4,
 "nbformat_minor": 5
}
